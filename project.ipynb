{
  "nbformat": 4,
  "nbformat_minor": 0,
  "metadata": {
    "colab": {
      "provenance": [],
      "authorship_tag": "ABX9TyOrBamnA1R4gaLhWyt/RLRd",
      "include_colab_link": true
    },
    "kernelspec": {
      "name": "python3",
      "display_name": "Python 3"
    },
    "language_info": {
      "name": "python"
    }
  },
  "cells": [
    {
      "cell_type": "markdown",
      "metadata": {
        "id": "view-in-github",
        "colab_type": "text"
      },
      "source": [
        "<a href=\"https://colab.research.google.com/github/ViktoriyaMarochkina/Project_data_anallysis/blob/main/project.ipynb\" target=\"_parent\"><img src=\"https://colab.research.google.com/assets/colab-badge.svg\" alt=\"Open In Colab\"/></a>"
      ]
    },
    {
      "cell_type": "markdown",
      "source": [
        "Подключим необходимые для работы библиотеки"
      ],
      "metadata": {
        "id": "JUABme3kQbnZ"
      }
    },
    {
      "cell_type": "code",
      "execution_count": 2,
      "metadata": {
        "id": "bQe25sqpGunQ"
      },
      "outputs": [],
      "source": [
        "import pandas as pd\n",
        "import numpy as np\n",
        "\n",
        "import matplotlib.pyplot as plt\n",
        "import seaborn as sns\n",
        "%matplotlib inline"
      ]
    },
    {
      "cell_type": "markdown",
      "source": [
        "Загрузим файл с данными с гугл диска"
      ],
      "metadata": {
        "id": "FB4Z6kybQiWw"
      }
    },
    {
      "cell_type": "code",
      "source": [
        "from google.colab import drive\n",
        "drive.mount('/content/drive')\n",
        "\n",
        "data = pd.read_csv('drive/MyDrive/Colab Notebooks/data/young-people-survey.csv', sep = \";\")"
      ],
      "metadata": {
        "colab": {
          "base_uri": "https://localhost:8080/"
        },
        "id": "z9QZ12r4G7Z8",
        "outputId": "f37ceba3-3111-49bc-ed00-0d1213d952bb"
      },
      "execution_count": 3,
      "outputs": [
        {
          "output_type": "stream",
          "name": "stdout",
          "text": [
            "Mounted at /content/drive\n"
          ]
        }
      ]
    },
    {
      "cell_type": "markdown",
      "source": [
        "Выделим из основной таблицы только интересующие нас данные (данные о музыке и фильмах) в две новые таблицы.\n",
        "Здесь мы используем функцию read_csv() из библиотеки Pandas для загрузки данных из CSV-файла в объект DataFrame. Затем мы выбираем только нужные столбцы, указав их имена в списке selected_columns.\n"
      ],
      "metadata": {
        "id": "nr6ErhlfQwfO"
      }
    },
    {
      "cell_type": "code",
      "source": [
        "selected_columns = ['Slow songs or fast songs', 'Dance', 'Folk', 'Country', 'Classical music', 'Musical', 'Pop', 'Rock',\n",
        "                    'Metal or Hardrock', 'Punk', 'Hiphop, Rap',\n",
        "                    'Reggae, Ska', 'Swing, Jazz', 'Rock n roll', 'Alternative', 'Latino', 'Techno, Trance', 'Opera']\n",
        "music = data[selected_columns]\n",
        "\n",
        "selected_columns = ['Horror', 'Thriller', 'Comedy', 'Romantic', 'Sci-fi', 'War', 'Fantasy/Fairy tales', 'Animated', 'Documentary', 'Western']\n",
        "movies = data[selected_columns]\n",
        "\n",
        "print(music.shape)\n",
        "print(music.head())\n",
        "print(\"\\n\")\n",
        "print(movies.shape)\n",
        "print(movies.head())\n"
      ],
      "metadata": {
        "colab": {
          "base_uri": "https://localhost:8080/"
        },
        "id": "QoAFF1-1H8lb",
        "outputId": "0db1f665-52ef-4b02-daed-b09639045d43"
      },
      "execution_count": 4,
      "outputs": [
        {
          "output_type": "stream",
          "name": "stdout",
          "text": [
            "(1010, 18)\n",
            "   Slow songs or fast songs  Dance  Folk  Country  Classical music  Musical  \\\n",
            "0                       3.0    2.0   1.0      2.0              2.0      1.0   \n",
            "1                       4.0    2.0   1.0      1.0              1.0      2.0   \n",
            "2                       5.0    2.0   2.0      3.0              4.0      5.0   \n",
            "3                       3.0    2.0   1.0      1.0              1.0      1.0   \n",
            "4                       3.0    4.0   3.0      2.0              4.0      3.0   \n",
            "\n",
            "   Pop  Rock  Metal or Hardrock  Punk  Hiphop, Rap  Reggae, Ska  Swing, Jazz  \\\n",
            "0  5.0   5.0                1.0   1.0          1.0          1.0          1.0   \n",
            "1  3.0   5.0                4.0   4.0          1.0          3.0          1.0   \n",
            "2  3.0   5.0                3.0   4.0          1.0          4.0          3.0   \n",
            "3  2.0   2.0                1.0   4.0          2.0          2.0          1.0   \n",
            "4  5.0   3.0                1.0   2.0          5.0          3.0          2.0   \n",
            "\n",
            "   Rock n roll  Alternative  Latino  Techno, Trance  Opera  \n",
            "0          3.0          1.0     1.0             1.0    1.0  \n",
            "1          4.0          4.0     2.0             1.0    1.0  \n",
            "2          5.0          5.0     5.0             1.0    3.0  \n",
            "3          2.0          5.0     1.0             2.0    1.0  \n",
            "4          1.0          2.0     4.0             2.0    2.0  \n",
            "\n",
            "\n",
            "(1010, 10)\n",
            "   Horror  Thriller  Comedy  Romantic  Sci-fi  War  Fantasy/Fairy tales  \\\n",
            "0     4.0       2.0     5.0       4.0     4.0  1.0                  5.0   \n",
            "1     2.0       2.0     4.0       3.0     4.0  1.0                  3.0   \n",
            "2     3.0       4.0     4.0       2.0     4.0  2.0                  5.0   \n",
            "3     4.0       4.0     3.0       3.0     4.0  3.0                  1.0   \n",
            "4     4.0       4.0     5.0       2.0     3.0  3.0                  4.0   \n",
            "\n",
            "   Animated  Documentary  Western  \n",
            "0       5.0          3.0      1.0  \n",
            "1       5.0          4.0      1.0  \n",
            "2       5.0          2.0      2.0  \n",
            "3       2.0          5.0      1.0  \n",
            "4       4.0          3.0      1.0  \n"
          ]
        }
      ]
    },
    {
      "cell_type": "markdown",
      "source": [
        "Проверим таблицы на наличие пропусков.\n",
        "Для поиска пропусков (NULL, NaN, None и т.д.) в столбцах таблицы будем использовать функцию isnull() из библиотеки Pandas. Эта функция возвращает таблицу той же формы, что и исходная, но заполненную значениями True и False, указывающими, является ли значение в соответствующей ячейке пропуском.\n",
        "Нам достаточно определить есть ли хотя бы один пропуск, поэтому будем использовать функцию any(), выведется таблица с булевыми значениями, указывающими, содержит ли каждый столбец хотя бы один пропуск."
      ],
      "metadata": {
        "id": "Jt1AExIoTQ9j"
      }
    },
    {
      "cell_type": "code",
      "source": [
        "has_null = music.isnull().any()\n",
        "print(has_null)\n",
        "print(\"\\n\")\n",
        "has_null = movies.isnull().any()\n",
        "print(has_null)"
      ],
      "metadata": {
        "colab": {
          "base_uri": "https://localhost:8080/"
        },
        "id": "JmORud3LSHry",
        "outputId": "9b42a333-2b8f-4bab-9de2-4cdac3ac0d0c"
      },
      "execution_count": 5,
      "outputs": [
        {
          "output_type": "stream",
          "name": "stdout",
          "text": [
            "Slow songs or fast songs    True\n",
            "Dance                       True\n",
            "Folk                        True\n",
            "Country                     True\n",
            "Classical music             True\n",
            "Musical                     True\n",
            "Pop                         True\n",
            "Rock                        True\n",
            "Metal or Hardrock           True\n",
            "Punk                        True\n",
            "Hiphop, Rap                 True\n",
            "Reggae, Ska                 True\n",
            "Swing, Jazz                 True\n",
            "Rock n roll                 True\n",
            "Alternative                 True\n",
            "Latino                      True\n",
            "Techno, Trance              True\n",
            "Opera                       True\n",
            "dtype: bool\n",
            "\n",
            "\n",
            "Horror                 True\n",
            "Thriller               True\n",
            "Comedy                 True\n",
            "Romantic               True\n",
            "Sci-fi                 True\n",
            "War                    True\n",
            "Fantasy/Fairy tales    True\n",
            "Animated               True\n",
            "Documentary            True\n",
            "Western                True\n",
            "dtype: bool\n"
          ]
        }
      ]
    },
    {
      "cell_type": "markdown",
      "source": [
        "Теперь заполним пустые ячейки вычисляя среднеее значение в каждой строке.\n",
        "\n",
        "Для нашего исследования требовалось разделить жанры музыки и фильмов на два класса. Спокойные и Энергичные/Динамичные. Сделаем это вручную, основываясь на эмпирическом опыте. Используем это разделение для заполнения пустот. Пердположим, что если человек предпочитает более спокойную музыку, то в соответствующих колонках должны стоять более высокие знчения (противоположное аналогично), поэтому при вычислении среднего значения для расчёта будем использовать только те значения, столбцы которых находятся в том же классе, что и пустая ячейка.\n",
        "\n",
        "МУЗЫКА\n",
        "\n",
        "Спокойные жанры:\n",
        "- Classical music, Opera\n",
        "- Jazz, Swing\n",
        "- Reggae, Ska\n",
        "- Country, Musical\n",
        "\n",
        "Энергичные жанры:\n",
        "- Dance, Pop, Rock, Metal or Hardrock, Punk, Folk\n",
        "- Hiphop, Rap\n",
        "- Rock n roll, Alternative, Latino\n",
        "- Techno, Trance\n",
        "\n",
        "ФИЛЬМЫ\n",
        "\n",
        "Спокойные жанры:\n",
        "- Romantic\n",
        "- Fantasy/Fairy tales\n",
        "- Animated\n",
        "- Documentary\n",
        "\n",
        "Динамичные жанры:\n",
        "- Horror\n",
        "- Thriller\n",
        "- Comedy\n",
        "- Sci-fi\n",
        "- War\n",
        "- Western\n",
        "\n",
        "\n",
        "Для удобства создадим 4 словаря согласно нашему разделению. Метод tolist() возвращает список элементов из объекта Pandas, где первый элемент имеет индекс 0. Поэтому нумеровать будем с 0.\n"
      ],
      "metadata": {
        "id": "--5yYVM3Zhsz"
      }
    },
    {
      "cell_type": "code",
      "source": [
        "music_list_slow = {'Classical music': 4,\n",
        "                   'Musical': 5,\n",
        "                   'Opera': 17,\n",
        "                   'Swing, Jazz': 12,\n",
        "                   'Reggae, Ska': 11,\n",
        "                   'Country': 3}\n",
        "\n",
        "music_list_fast = { 'Dance': 1,\n",
        "                    'Folk': 2,\n",
        "                    'Pop': 6,\n",
        "                    'Rock': 7,\n",
        "                    'Metal or Hardrock': 8,\n",
        "                    'Punk': 9,\n",
        "                    'Hiphop, Rap': 10,\n",
        "                    'Rock n roll': 13,\n",
        "                    'Alternative': 14,\n",
        "                    'Latino': 15,\n",
        "                    'Techno, Trance': 16}\n",
        "\n",
        "movies_list_calm = [3,6,7,8]\n",
        "movies_list_dynamic = [0,1,2,4,5,9]"
      ],
      "metadata": {
        "id": "YxCiuACVXpJU"
      },
      "execution_count": 20,
      "outputs": []
    },
    {
      "cell_type": "markdown",
      "source": [
        "Далее мы используем метод iterrows() для обхода строк таблицы и метод isnull() для поиска пропущенных значений в строке. Затем мы находим номера столбцов с пропущенными значениями и обходим их, вычисляя новое значение для каждого столбца в соответствии со словарями music_list_slow и music_list_fast. Используем метод at для изменения значения в таблице.\n",
        "\n",
        "Таким образом, в результате выполнения этого кода для каждой строки, где значение в столбце column равно NaN, будет вычислено среднее значение в других столбцах из списка music_list_slow. Эти средние значения будут использоваться для замены пропущенных значений в столбце column.\n",
        "\n",
        "Затем мы используем метод round(), чтобы округлить результат до ближайшего целого значения, и метод astype(int), чтобы преобразовать результат в целое число."
      ],
      "metadata": {
        "id": "iPKG6_wXWt5b"
      }
    },
    {
      "cell_type": "code",
      "source": [
        "# функция для вычисления максимального значения для каждой строки\n",
        "def get_max(row):\n",
        "    # вычисляем среднее значение для столбцов из списка music_list_slow\n",
        "    mean_values_s = row[list(music_list_slow.keys())].mean()\n",
        "    # вычисляем среднее значение для столбцов из списка music_list_fast\n",
        "    mean_values_f = row[list(music_list_fast.keys())].mean()\n",
        "    # выбираем максимальное значение\n",
        "    max_value = max(mean_values_s, mean_values_f)\n",
        "    return max_value"
      ],
      "metadata": {
        "id": "MZkwOmZutjqr"
      },
      "execution_count": 14,
      "outputs": []
    },
    {
      "cell_type": "code",
      "source": [
        "# обход строк таблицы\n",
        "for index, row in music.iterrows():\n",
        "    # поиск пропущенных значений в строке\n",
        "    null_count = row.isnull().sum()\n",
        "    if null_count > 0:\n",
        "        # нахождение названий столбцов с пропущенными значениями\n",
        "        null_columns = row.index[row.isnull()].tolist()\n",
        "\n",
        "        # обход столбцов с пропущенными значениями\n",
        "        for null_column in null_columns:\n",
        "            # вычисление нового значения для пропущенной ячейки\n",
        "\n",
        "            if null_column in music_list_slow:\n",
        "                # находим другие столбцы, которые есть в списке music_list_slow\n",
        "                other_columns = [col for col in music_list_slow if col != null_column]\n",
        "                # вычисляем среднее значение в других столбцах для данной строки\n",
        "                new_value = row[other_columns].mean().round().astype(int)\n",
        "                # замена пропущенного значения на новое значение\n",
        "                music.at[index, null_column] = new_value\n",
        "            elif null_column in music_list_fast:\n",
        "                # находим другие столбцы, которые есть в списке music_list_fast\n",
        "                other_columns = [col for col in music_list_fast if col != null_column]\n",
        "                # вычисляем среднее значение в других столбцах для данной строки\n",
        "                new_value = row[other_columns].mean().round().astype(int)\n",
        "                # замена пропущенного значения на новое значение\n",
        "                music.at[index, null_column] = new_value"
      ],
      "metadata": {
        "id": "_HE0-q8RbpuG"
      },
      "execution_count": 17,
      "outputs": []
    },
    {
      "cell_type": "code",
      "source": [
        "has_null = music.isnull().any()\n",
        "print(has_null)"
      ],
      "metadata": {
        "colab": {
          "base_uri": "https://localhost:8080/"
        },
        "id": "f-SiCye6Sthb",
        "outputId": "6858f62b-3f55-4f9f-a2ca-aa89a4835996"
      },
      "execution_count": 19,
      "outputs": [
        {
          "output_type": "stream",
          "name": "stdout",
          "text": [
            "Slow songs or fast songs     True\n",
            "Dance                       False\n",
            "Folk                        False\n",
            "Country                     False\n",
            "Classical music             False\n",
            "Musical                     False\n",
            "Pop                         False\n",
            "Rock                        False\n",
            "Metal or Hardrock           False\n",
            "Punk                        False\n",
            "Hiphop, Rap                 False\n",
            "Reggae, Ska                 False\n",
            "Swing, Jazz                 False\n",
            "Rock n roll                 False\n",
            "Alternative                 False\n",
            "Latino                      False\n",
            "Techno, Trance              False\n",
            "Opera                       False\n",
            "dtype: bool\n"
          ]
        }
      ]
    }
  ]
}